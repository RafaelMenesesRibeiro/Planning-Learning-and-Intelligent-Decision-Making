{
 "cells": [
  {
   "cell_type": "markdown",
   "metadata": {},
   "source": [
    "# Planning, Learning and Decision Making\n",
    "## Homework 1. Markov chains\n",
    "\n",
    "Group 27\n",
    "\n",
    "78375 - João Pirralha\n",
    "\n",
    "84758 - Rafael Ribeiro\n",
    "\n",
    "### 1.a)\n",
    "\n",
    "State space: $\\mathcal{X} = \\{Station\\ A,\\ Stop\\ 1,\\ Stop\\ 2,\\ Stop\\ 3,\\ Stop\\ 4,\\ Stop\\ 5,\\ Stop\\ 6,\\ Station\\ B\\}$\n",
    "\n",
    "The transition probability matrix $P$ is done in Python as it will be used in the next part of the exercise:"
   ]
  },
  {
   "cell_type": "code",
   "execution_count": 1,
   "metadata": {},
   "outputs": [
    {
     "name": "stdout",
     "output_type": "stream",
     "text": [
      "Transition probability matrix:\n",
      "[[0.   0.5  0.   0.   0.15 0.35 0.   0.  ]\n",
      " [0.   0.   1.   0.   0.   0.   0.   0.  ]\n",
      " [0.   0.   0.   1.   0.   0.   0.   0.  ]\n",
      " [0.   0.   0.   0.   0.   0.   0.   1.  ]\n",
      " [0.   0.   0.   0.   0.   0.   0.   1.  ]\n",
      " [0.   0.   0.   0.   0.   0.   1.   0.  ]\n",
      " [0.   0.   0.   0.   0.   0.   0.   1.  ]\n",
      " [1.   0.   0.   0.   0.   0.   0.   0.  ]]\n"
     ]
    }
   ],
   "source": [
    "import numpy as np\n",
    "X = (\"Station A\", \"Stop 1\", \"Stop 2\", \"Stop 3\", \"Stop 4\", \"Stop 5\",\n",
    "     \"Stop 6\", \"Station B\")\n",
    "P = np.zeros((8, 8))\n",
    "P[0, 1] = 0.5\n",
    "P[0, 4] = 0.15\n",
    "P[0, 5] = 0.35\n",
    "P[1, 2] = 1\n",
    "P[2, 3] = 1\n",
    "P[3, 7] = 1\n",
    "P[4, 7] = 1\n",
    "P[5, 6] = 1\n",
    "P[6, 7] = 1\n",
    "P[7, 0] = 1\n",
    "print(\"Transition probability matrix:\")\n",
    "print(P)"
   ]
  },
  {
   "cell_type": "markdown",
   "metadata": {},
   "source": [
    "### 1.b)\n",
    "To get the probability for all stops at time step t=3, we can multiply the transition probability matrix $P$ by itself two times (power of 3). Then, to get the probabilities corresponding to when the train departed form Station A at t=0, we extract the first line of the resulting matrix.\n",
    "\n",
    "This is done in Python:"
   ]
  },
  {
   "cell_type": "code",
   "execution_count": 2,
   "metadata": {},
   "outputs": [
    {
     "name": "stdout",
     "output_type": "stream",
     "text": [
      "Probability of the train being in each stop at time step t = 3:\n",
      "Station A: 0.15\n",
      "Stop 1: 0\n",
      "Stop 2: 0\n",
      "Stop 3: 0.5\n",
      "Stop 4: 0\n",
      "Stop 5: 0\n",
      "Stop 6: 0\n",
      "Station B: 0.35\n"
     ]
    }
   ],
   "source": [
    "prob_3 = np.linalg.matrix_power(P, 3)[0]\n",
    "print(\"Probability of the train being in each stop at time step t = 3:\")\n",
    "for stop, prob in zip(X, prob_3):\n",
    "    print(stop + \": \" + str(\"%g\" % prob))"
   ]
  },
  {
   "cell_type": "markdown",
   "metadata": {},
   "source": [
    "### 1.c)\n",
    "\n",
    "Let $\\tau$ be the expected waiting time for a passenger in Stop 4 __when the train departs from Station A__. The expected waiting time for a passenger in Stop 4 __when the train has just departed from Stop 4__ is then $\\tau$ plus the time it takes the train to go from Stop 4 to Station A, which is $(10+2)\\times2=24$ minutes.\n",
    "\n",
    "When the train departs from Station A it might arrive at Stop 4:\n",
    "* in 10 minutes with 0.15 probability (when the train goes directly to Stop 4);\n",
    "* in $(10+2)\\times5 + \\tau$ minutes with 0.5 probability (when the train goes through the longest alternative path);\n",
    "* in $(10+2)\\times4 + \\tau$ minutes 0.35 probability (when the train goes through the shortest alternative path).\n",
    "\n",
    "Thus:\n",
    "\n",
    "$$\\tau = 0.15\\times10 + 0.5\\times(12\\times5 + \\tau) + 0.35×(12\\times4 + \\tau)$$\n",
    "$$\\Leftrightarrow \\tau = 1.5 + 30 + 0.5\\tau + 16.8 + 0.35\\tau$$\n",
    "$$\\Leftrightarrow \\tau = \\frac{1.5 + 30 + 16.8}{1 - 0.5 - 0.35} = 322\\ minutes$$\n",
    "\n",
    "Adding the 24 minutes necessary to get from Stop 4 to Station A:\n",
    "\n",
    "$$Expected\\ waiting\\ time = 322 + 24 = 346\\ minutes$$\n",
    "\n",
    "\n",
    "Next we experimentally validade our answer:"
   ]
  },
  {
   "cell_type": "code",
   "execution_count": 3,
   "metadata": {},
   "outputs": [
    {
     "name": "stdout",
     "output_type": "stream",
     "text": [
      "(Simulation) expected waiting time: 346.853 minutes\n"
     ]
    }
   ],
   "source": [
    "# Simulation for validation\n",
    "ITERATIONS = 10 ** 5\n",
    "STOPS = [n for n in range(8)]\n",
    "total_time_waiting = 0\n",
    "\n",
    "for i in range(ITERATIONS):\n",
    "    stop = 4\n",
    "    total_time_waiting += 12\n",
    "    stop = np.random.choice(STOPS, p = P[stop])\n",
    "    while stop != 4:\n",
    "        total_time_waiting += 12\n",
    "        stop = np.random.choice(STOPS, p = P[stop])\n",
    "    # The passenger boards the train as soon as it arrives\n",
    "    total_time_waiting -= 2\n",
    "    \n",
    "\n",
    "print(\"(Simulation) expected waiting time: \"\n",
    "      + \"%g\" % (total_time_waiting / ITERATIONS)\n",
    "      + \" minutes\")"
   ]
  },
  {
   "cell_type": "code",
   "execution_count": null,
   "metadata": {},
   "outputs": [],
   "source": []
  }
 ],
 "metadata": {
  "kernelspec": {
   "display_name": "Python 3",
   "language": "python",
   "name": "python3"
  },
  "language_info": {
   "codemirror_mode": {
    "name": "ipython",
    "version": 3
   },
   "file_extension": ".py",
   "mimetype": "text/x-python",
   "name": "python",
   "nbconvert_exporter": "python",
   "pygments_lexer": "ipython3",
   "version": "3.6.6"
  }
 },
 "nbformat": 4,
 "nbformat_minor": 2
}
