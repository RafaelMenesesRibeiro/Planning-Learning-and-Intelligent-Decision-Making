{
 "cells": [
  {
   "cell_type": "markdown",
   "metadata": {},
   "source": [
    "# Planning, Learning and Decision Making\n",
    "\n",
    "Group 27\n",
    "\n",
    "78375 - João Pirralha\n",
    "\n",
    "84758 - Rafael Ribeiro\n",
    "\n",
    "## Homework 3. Partially observable Markov decision problems"
   ]
  },
  {
   "cell_type": "markdown",
   "metadata": {},
   "source": [
    "1.\n",
    "\n",
    "$𝓧 = \\{A, B_1, B_2, C, D, E, F\\}$\n",
    "\n",
    "$𝓐 = \\{a, b, c\\}$\n",
    "\n",
    "$𝓞 = \\{A, B, C, D, E, F\\}$"
   ]
  },
  {
   "cell_type": "markdown",
   "metadata": {},
   "source": [
    "2."
   ]
  },
  {
   "cell_type": "code",
   "execution_count": 1,
   "metadata": {},
   "outputs": [
    {
     "name": "stdout",
     "output_type": "stream",
     "text": [
      "Pa:\n",
      "[[0.  0.5 0.5 0.  0.  0.  0. ]\n",
      " [0.  0.  0.  0.  0.  1.  0. ]\n",
      " [0.  0.  0.  0.  0.  0.  1. ]\n",
      " [0.  1.  0.  0.  0.  0.  0. ]\n",
      " [0.  0.  1.  0.  0.  0.  0. ]\n",
      " [1.  0.  0.  0.  0.  0.  0. ]\n",
      " [1.  0.  0.  0.  0.  0.  0. ]]\n",
      "\n",
      "Pb:\n",
      "[[0.  0.5 0.5 0.  0.  0.  0. ]\n",
      " [0.  0.  0.  0.  0.  0.  1. ]\n",
      " [0.  0.  0.  0.  0.  1.  0. ]\n",
      " [0.  1.  0.  0.  0.  0.  0. ]\n",
      " [0.  0.  1.  0.  0.  0.  0. ]\n",
      " [1.  0.  0.  0.  0.  0.  0. ]\n",
      " [1.  0.  0.  0.  0.  0.  0. ]]\n",
      "\n",
      "Pc:\n",
      "[[0.  0.5 0.5 0.  0.  0.  0. ]\n",
      " [0.  0.  0.  1.  0.  0.  0. ]\n",
      " [0.  0.  0.  0.  1.  0.  0. ]\n",
      " [0.  1.  0.  0.  0.  0.  0. ]\n",
      " [0.  0.  1.  0.  0.  0.  0. ]\n",
      " [1.  0.  0.  0.  0.  0.  0. ]\n",
      " [1.  0.  0.  0.  0.  0.  0. ]]\n",
      "\n",
      "Oa = Ob = Oc:\n",
      "[[1. 0. 0. 0. 0. 0.]\n",
      " [0. 1. 0. 0. 0. 0.]\n",
      " [0. 1. 0. 0. 0. 0.]\n",
      " [0. 0. 1. 0. 0. 0.]\n",
      " [0. 0. 0. 1. 0. 0.]\n",
      " [0. 0. 0. 0. 1. 0.]\n",
      " [0. 0. 0. 0. 0. 1.]]\n",
      "\n",
      "C:\n",
      "[[1. 1. 1.]\n",
      " [1. 1. 1.]\n",
      " [1. 1. 1.]\n",
      " [1. 1. 1.]\n",
      " [1. 1. 1.]\n",
      " [1. 1. 1.]\n",
      " [0. 0. 0.]]\n"
     ]
    }
   ],
   "source": [
    "import numpy as np\n",
    "\n",
    "# States\n",
    "A = 0; B1 = 1; B2 = 2; C = 3; D = 4; E = 5; F = 6\n",
    "\n",
    "Pa = np.zeros((7, 7))\n",
    "Pa[A, B1] = 0.5\n",
    "Pa[A, B2] = 0.5\n",
    "Pa[B1, E] = 1\n",
    "Pa[B2, F] = 1\n",
    "Pa[C, B1] = 1\n",
    "Pa[D, B2] = 1\n",
    "Pa[E, A] = 1\n",
    "Pa[F, A] = 1\n",
    "\n",
    "Pb = np.zeros((7, 7))\n",
    "Pb[A, B1] = 0.5\n",
    "Pb[A, B2] = 0.5\n",
    "Pb[B1, F] = 1\n",
    "Pb[B2, E] = 1\n",
    "Pb[C, B1] = 1\n",
    "Pb[D, B2] = 1\n",
    "Pb[E, A] = 1\n",
    "Pb[F, A] = 1\n",
    "\n",
    "Pc = np.zeros((7, 7))\n",
    "Pc[A, B1] = 0.5\n",
    "Pc[A, B2] = 0.5\n",
    "Pc[B1, C] = 1\n",
    "Pc[B2, D] = 1\n",
    "Pc[C, B1] = 1\n",
    "Pc[D, B2] = 1\n",
    "Pc[E, A] = 1\n",
    "Pc[F, A] = 1\n",
    "\n",
    "# Observations\n",
    "ZA = 0; ZB = 1; ZC = 2; ZD = 3; ZE = 4; ZF = 5\n",
    "Oa = np.zeros((7, 6))\n",
    "Oa[A, ZA] = 1\n",
    "Oa[B1, ZB] = 1\n",
    "Oa[B2, ZB] = 1\n",
    "Oa[C, ZC] = 1\n",
    "Oa[D, ZD] = 1\n",
    "Oa[E, ZE] = 1\n",
    "Oa[F, ZF] = 1\n",
    "Oc = Ob = Oa\n",
    "\n",
    "# Actions\n",
    "a = 0; b = 1; c = 2\n",
    "C = np.ones((7, 3))\n",
    "C[F, (a, b, c)] = 0\n",
    "\n",
    "print(\"Pa:\")\n",
    "print(Pa)\n",
    "print(\"\\nPb:\")\n",
    "print(Pb)\n",
    "print(\"\\nPc:\")\n",
    "print(Pc)\n",
    "print(\"\\nOa = Ob = Oc:\")\n",
    "print(Oa)\n",
    "print(\"\\nC:\")\n",
    "print(C)"
   ]
  },
  {
   "cell_type": "code",
   "execution_count": null,
   "metadata": {},
   "outputs": [],
   "source": []
  }
 ],
 "metadata": {
  "kernelspec": {
   "display_name": "Python 3",
   "language": "python",
   "name": "python3"
  },
  "language_info": {
   "codemirror_mode": {
    "name": "ipython",
    "version": 3
   },
   "file_extension": ".py",
   "mimetype": "text/x-python",
   "name": "python",
   "nbconvert_exporter": "python",
   "pygments_lexer": "ipython3",
   "version": "3.6.6"
  }
 },
 "nbformat": 4,
 "nbformat_minor": 2
}
