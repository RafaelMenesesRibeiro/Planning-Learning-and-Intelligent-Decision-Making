{
 "cells": [
  {
   "cell_type": "markdown",
   "metadata": {},
   "source": [
    "# Planning, Learning and Decision Making\n",
    "\n",
    "Group 27\n",
    "\n",
    "78375 - João Pirralha\n",
    "\n",
    "84758 - Rafael Ribeiro\n",
    "\n",
    "## Homework 5. Reinforcement learning"
   ]
  },
  {
   "cell_type": "markdown",
   "metadata": {},
   "source": [
    "### a)"
   ]
  },
  {
   "cell_type": "code",
   "execution_count": 1,
   "metadata": {},
   "outputs": [
    {
     "name": "stdout",
     "output_type": "stream",
     "text": [
      "Q-values after a Q-learning update resulting from the transition at time step t:\n",
      "(4, b̄, r): [3.23 3.34 3.25 3.22]\n",
      "(5, b̄, r): [3.17692 3.25    3.57    3.22   ]\n"
     ]
    }
   ],
   "source": [
    "import numpy as np\n",
    "\n",
    "X = (\"(4, b̄, r)\", \"(5, b̄, r)\")\n",
    "S4bR = 0; S5bR = 1\n",
    "UP = 0; DOWN = 1; LEFT = 2; RIGHT = 3\n",
    "GAMMA = 0.99\n",
    "STEP_SIZE = 0.1\n",
    "Q_t = np.array([[3.23, 3.34, 3.25, 3.22], [3.08, 3.25, 3.57, 3.22]])\n",
    "\n",
    "# Slide 15 of lec21.pdf\n",
    "def Q_learning_update(x_t, a_t, c_t, x_t1):\n",
    "    result = np.copy(Q_t)\n",
    "    result[x_t, a_t] = Q_t[x_t, a_t] + STEP_SIZE * (c_t + GAMMA * np.min(Q_t[x_t1]) - Q_t[x_t, a_t])\n",
    "    return result\n",
    "\n",
    "print(\"Q-values after a Q-learning update resulting from the transition at time step t:\")\n",
    "Q_t1_Q_learning = Q_learning_update(S5bR, UP, 1.0, S5bR)\n",
    "for state, Q in zip(X, Q_t1_Q_learning):\n",
    "    print(state + \":\", Q)"
   ]
  },
  {
   "cell_type": "markdown",
   "metadata": {},
   "source": [
    "### b)"
   ]
  },
  {
   "cell_type": "code",
   "execution_count": 2,
   "metadata": {},
   "outputs": [
    {
     "name": "stdout",
     "output_type": "stream",
     "text": [
      "Q-values after a SARSA update resulting from the transition at time step t:\n",
      "(4, b̄, r): [3.23 3.34 3.25 3.22]\n",
      "(5, b̄, r): [3.19078 3.25    3.57    3.22   ]\n"
     ]
    }
   ],
   "source": [
    "# Slide 32 of lec21.pdf\n",
    "def SARSA_update(x_t, a_t, c_t, x_t1, a_t1):\n",
    "    result = np.copy(Q_t)\n",
    "    result[x_t, a_t] = Q_t[x_t, a_t] + STEP_SIZE * (c_t + GAMMA * Q_t[x_t1, a_t1] - Q_t[x_t, a_t])\n",
    "    return result\n",
    "\n",
    "print(\"Q-values after a SARSA update resulting from the transition at time step t:\")\n",
    "Q_t1_SARSA = SARSA_update(S5bR, UP, 1.0, S5bR, RIGHT)\n",
    "for state, Q in zip(X, Q_t1_SARSA):\n",
    "    print(state + \":\", Q)"
   ]
  },
  {
   "cell_type": "markdown",
   "metadata": {},
   "source": [
    "### c)\n",
    "\n",
    "On-policy learning improves the same policy that is used to make exploration decisions, while off-policy learning improves a different policy than the one used to make exploration decisions. This results in on-policy conservatively learning a near-optimal policy instead of the optimal policy, unless policy improvement (e.g. ε-greedy with decaying ε) is used, while off-policy learns the optimal policy at the expense of more mistakes (whose cost may be significant).\n",
    "\n",
    "In the case of Q-learning (off-policy) in 1.a), the next step in the exploration trajectory would be decided by the same policy, unchanged by the update, while SARSA (on-policy) in 1.b) would use the new Q for a new exploration policy that would choose $a_{t+2}$."
   ]
  },
  {
   "cell_type": "code",
   "execution_count": null,
   "metadata": {},
   "outputs": [],
   "source": []
  }
 ],
 "metadata": {
  "kernelspec": {
   "display_name": "Python 3",
   "language": "python",
   "name": "python3"
  },
  "language_info": {
   "codemirror_mode": {
    "name": "ipython",
    "version": 3
   },
   "file_extension": ".py",
   "mimetype": "text/x-python",
   "name": "python",
   "nbconvert_exporter": "python",
   "pygments_lexer": "ipython3",
   "version": "3.6.6"
  }
 },
 "nbformat": 4,
 "nbformat_minor": 2
}
