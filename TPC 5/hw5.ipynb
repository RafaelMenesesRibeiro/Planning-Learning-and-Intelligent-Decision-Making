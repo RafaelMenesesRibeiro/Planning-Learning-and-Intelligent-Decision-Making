{
 "cells": [
  {
   "cell_type": "markdown",
   "metadata": {},
   "source": [
    "# Planning, Learning and Decision Making\n",
    "\n",
    "Group 27\n",
    "\n",
    "78375 - João Pirralha\n",
    "\n",
    "84758 - Rafael Ribeiro\n",
    "\n",
    "## Homework 5. Reinforcement learning"
   ]
  },
  {
   "cell_type": "markdown",
   "metadata": {},
   "source": [
    "1."
   ]
  },
  {
   "cell_type": "code",
   "execution_count": 1,
   "metadata": {},
   "outputs": [
    {
     "name": "stdout",
     "output_type": "stream",
     "text": [
      "Q-values for (4, b̄, r) at time step t+1:\n",
      "[3.23 3.34 3.25 3.22]\n",
      "Q-values for (5, b̄, r) at time step t+1:\n",
      "[3.1492 3.25   3.57   3.22  ]\n"
     ]
    }
   ],
   "source": [
    "import numpy as np\n",
    "\n",
    "UP = 0; DOWN = 1; LEFT = 2; RIGHT = 3\n",
    "GAMMA = 0.9\n",
    "STEP_SIZE = 0.1\n",
    "\n",
    "# Slide 15 of lec21.pdf\n",
    "def update_Q(Q_x_t, a_t, c_t, Q_x_t1):\n",
    "    result = np.copy(Q_x_t)\n",
    "    result[a_t] = Q_x_t[a_t] + STEP_SIZE * (c_t + GAMMA * np.min(Q_x_t1) - Q_x_t[a_t])\n",
    "    return result\n",
    "\n",
    "Q4bR_t = np.array([3.23, 3.34, 3.25, 3.22])\n",
    "Q5bR_t = np.array([3.08, 3.25, 3.57, 3.22])\n",
    "\n",
    "print(\"Q-values for (4, b̄, r) at time step t+1:\")\n",
    "print(Q4bR_t)\n",
    "print(\"Q-values for (5, b̄, r) at time step t+1:\")\n",
    "print(update_Q(Q5bR_t, UP, 1.0, Q5bR_t))\n"
   ]
  },
  {
   "cell_type": "code",
   "execution_count": null,
   "metadata": {},
   "outputs": [],
   "source": []
  }
 ],
 "metadata": {
  "kernelspec": {
   "display_name": "Python 3",
   "language": "python",
   "name": "python3"
  },
  "language_info": {
   "codemirror_mode": {
    "name": "ipython",
    "version": 3
   },
   "file_extension": ".py",
   "mimetype": "text/x-python",
   "name": "python",
   "nbconvert_exporter": "python",
   "pygments_lexer": "ipython3",
   "version": "3.6.6"
  }
 },
 "nbformat": 4,
 "nbformat_minor": 2
}
