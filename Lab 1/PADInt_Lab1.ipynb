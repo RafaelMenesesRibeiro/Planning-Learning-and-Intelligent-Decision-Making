{
 "cells": [
  {
   "cell_type": "markdown",
   "metadata": {},
   "source": [
    "# Learning and Decision Making"
   ]
  },
  {
   "cell_type": "markdown",
   "metadata": {},
   "source": [
    "## Laboratory 1: Markov chains\n",
    "\n",
    "In the end of the lab, you should submit all code/answers written in the tasks marked as \"Activity n. XXX\", together with the corresponding outputs and any replies to specific questions posed to the e-mail <adi.tecnico@gmail.com>. Make sure that the subject is of the form [&lt;group n.&gt;] LAB &lt;lab n.&gt;.\n",
    "\n",
    "### 1. Modeling\n",
    "\n",
    "Consider once again the train modeling problem described in the Homework and for which you wrote a Markov chain model:\n",
    "\n",
    "<img src=\"trains.png\" width=\"400px\">\n",
    "\n",
    "Recall that your chain should describe the motion of the single train traveling the network, where: \n",
    "\n",
    "* Stations $A$ and $B$ are just like regular stops;\n",
    "* The travel time between any two consecutive stops is exactly 10 minutes. The train stops exactly 2 minutes in each location.\n",
    "* At the intersection marked with a bold $\\times$, the train follows the branch 1-3 with probability 0.5, the branch 4 with probability 0.15, and the branch 5-6 with probability 0.35."
   ]
  },
  {
   "cell_type": "markdown",
   "metadata": {},
   "source": [
    "---\n",
    "\n",
    "#### Activity 1.        \n",
    "\n",
    "Implement your Markov chain model in Python. In particular,\n",
    "\n",
    "* Create a list with all the states;\n",
    "* Define a `numpy` array with the corresponding transition probabilities.\n",
    "\n",
    "The order for the states used in the transition probability matrix should match that in the list of states. \n",
    "\n",
    "**Note 1**: Don't forget to import `numpy`. If you need additional matrix operations (such as matrix powers or eigenvalues and eigenvectors), you may also import the library `numpy.linalg`.\n",
    "\n",
    "**Note 2**: Make sure to print the result in the end.\n",
    "\n",
    "---"
   ]
  },
  {
   "cell_type": "code",
   "execution_count": 1,
   "metadata": {},
   "outputs": [
    {
     "name": "stdout",
     "output_type": "stream",
     "text": [
      "States: ('Station A', 'Stop 1', 'Stop 2', 'Stop 3', 'Stop 4', 'Stop 5', 'Stop 6', 'Station B')\n",
      "Transition probability matrix:\n",
      "[[0.   0.5  0.   0.   0.15 0.35 0.   0.  ]\n",
      " [0.   0.   1.   0.   0.   0.   0.   0.  ]\n",
      " [0.   0.   0.   1.   0.   0.   0.   0.  ]\n",
      " [0.   0.   0.   0.   0.   0.   0.   1.  ]\n",
      " [0.   0.   0.   0.   0.   0.   0.   1.  ]\n",
      " [0.   0.   0.   0.   0.   0.   1.   0.  ]\n",
      " [0.   0.   0.   0.   0.   0.   0.   1.  ]\n",
      " [1.   0.   0.   0.   0.   0.   0.   0.  ]]\n"
     ]
    }
   ],
   "source": [
    "import numpy as np\n",
    "\n",
    "X = (\"Station A\", \"Stop 1\", \"Stop 2\", \"Stop 3\", \"Stop 4\", \"Stop 5\",\n",
    "     \"Stop 6\", \"Station B\")\n",
    "print(\"States: {}\".format(X))\n",
    "\n",
    "P = np.zeros((8, 8))\n",
    "P[0, 1] = 0.5\n",
    "P[0, 4] = 0.15\n",
    "P[0, 5] = 0.35\n",
    "P[1, 2] = 1\n",
    "P[2, 3] = 1\n",
    "P[3, 7] = 1\n",
    "P[4, 7] = 1\n",
    "P[5, 6] = 1\n",
    "P[6, 7] = 1\n",
    "P[7, 0] = 1\n",
    "print(\"Transition probability matrix:\")\n",
    "print(P)"
   ]
  },
  {
   "cell_type": "markdown",
   "metadata": {},
   "source": [
    "---\n",
    "\n",
    "#### Activity 2.\n",
    "\n",
    "Compute, using the proper transition matrix manipulations, the probability of the following trajectories:\n",
    "\n",
    "* 4 - $B$ - $A$ - 4\n",
    "* $A$ - 2 - 3 - $B$ - $A$\n",
    "* 5 - 6 - $B$ - $A$ - 4\n",
    "\n",
    "**Note:** Make sure to print the result in the end.\n",
    "\n",
    "---"
   ]
  },
  {
   "cell_type": "code",
   "execution_count": 2,
   "metadata": {},
   "outputs": [
    {
     "name": "stdout",
     "output_type": "stream",
     "text": [
      "Probability of path '[4, 7, 0, 4]': \t0.15\n",
      "Probability of path '[0, 2, 3, 7, 0]': \t0.0\n",
      "Probability of path '[5, 6, 7, 0, 4]': \t0.15\n"
     ]
    }
   ],
   "source": [
    "def calculateProb(path):\n",
    "    prob = 1\n",
    "    for step in range(len(path) - 1):\n",
    "        prob *= P[path[step], path[step + 1]]\n",
    "    return prob\n",
    "    \n",
    "path1 = [4, 7, 0, 4]\n",
    "path2 = [0, 2, 3, 7, 0]\n",
    "path3 = [5, 6, 7, 0, 4]\n",
    "\n",
    "print(\"Probability of path '{}': \\t{}\".format(path1, calculateProb(path1)))\n",
    "print(\"Probability of path '{}': \\t{}\".format(path2, calculateProb(path2)))\n",
    "print(\"Probability of path '{}': \\t{}\".format(path3, calculateProb(path3)))"
   ]
  },
  {
   "cell_type": "markdown",
   "metadata": {},
   "source": [
    "### 2. Stability"
   ]
  },
  {
   "cell_type": "markdown",
   "metadata": {},
   "source": [
    "---\n",
    "\n",
    "#### Activity 3\n",
    "\n",
    "Compute the stationary distribution for the chain. Confirm, computationally, that it is indeed the stationary distribution.\n",
    "\n",
    "**Note:** The stationary distribution is a *left* eigenvector of the transition probability matrix associated to the eigenvalue 1. As such, you may find useful the numpy function `numpy.linalg.eig`. Also, recall that the stationary distribution is *a distribution*.\n",
    "\n",
    "---"
   ]
  },
  {
   "cell_type": "code",
   "execution_count": 3,
   "metadata": {},
   "outputs": [
    {
     "name": "stdout",
     "output_type": "stream",
     "text": [
      "Stationary distribution for the chain:\n",
      "[0.22988506 0.11494253 0.11494253 0.11494253 0.03448276 0.08045977\n",
      " 0.08045977 0.22988506]\n"
     ]
    }
   ],
   "source": [
    "# (@ is the \"dot\" operator)\n",
    "# u @ P = u\n",
    "# <=> (u @ P).T = u.T\n",
    "# <=> P.T @ u.T = u.T\n",
    "# => u.T is an eigenvector of P.T with eigenvalue 1\n",
    "# (The eigenvector v with eigenvalue lambda of a matrix A satisfies A @ v = lambda @ v)\n",
    "\n",
    "# Gets all the eigenvalues and vectors for P transposed\n",
    "eigenValues, eigenVectors = np.linalg.eig(P.T)\n",
    "\n",
    "# Chooses the eigenvector corresponding to the eigenvalue equal to 1, which is the first one,\n",
    "# and normalizes it\n",
    "# We want the column and not the line because we're working with the eigenvectors of P transposed\n",
    "u = eigenVectors.T[0].real / np.sum(eigenVectors[:, 0].real)\n",
    "\n",
    "# Verifies if u = uP\n",
    "test = u @ P\n",
    "if np.allclose(u, test):\n",
    "    print(\"Stationary distribution for the chain:\\n{}\".format(u))"
   ]
  },
  {
   "cell_type": "markdown",
   "metadata": {},
   "source": [
    "---\n",
    "\n",
    "#### Activity 4.\n",
    "\n",
    "Empirically show that the chain is ergodic.\n",
    "\n",
    "**Note:** Recall that a chain is ergodic if, given any initial distribution, it converges to the stationary distribution.\n",
    "\n",
    "---"
   ]
  },
  {
   "cell_type": "code",
   "execution_count": 4,
   "metadata": {},
   "outputs": [
    {
     "name": "stdout",
     "output_type": "stream",
     "text": [
      "The chain is ergodic, as the chain converges to the stationary distribution calculated in Activity 3 with several different initial distributions.\n"
     ]
    }
   ],
   "source": [
    "import random\n",
    "\n",
    "# Multiplying a random (normalized) initial distribution by the matrix P to the power of 100000000, \n",
    "# we conclude the chain is ergodic as the result of the multiplication is similar to the stationary distribution.\n",
    "# That is done for 1000 randomly generated initial distributions.\n",
    "\n",
    "def act4():\n",
    "    for i in range(1000):\n",
    "        newDist = np.random.rand(8)\n",
    "        newDist /= np.sum(newDist)\n",
    "        uInf = newDist @ np.linalg.matrix_power(P, 100000000)\n",
    "        if not np.allclose(uInf, u):\n",
    "            print(\"Different from stationary distribution!\")\n",
    "            return\n",
    "    print(\"The chain is ergodic, as the chain converges to the stationary distribution calculated in Activity 3\" \\\n",
    "          + \" with several different initial distributions.\")\n",
    "\n",
    "act4()"
   ]
  },
  {
   "cell_type": "markdown",
   "metadata": {},
   "source": [
    "### 3. Simulation\n",
    "\n",
    "You are now going to *simulate* the Markov chain that you defined in Question #1."
   ]
  },
  {
   "cell_type": "markdown",
   "metadata": {},
   "source": [
    "---\n",
    "\n",
    "#### Activity 5\n",
    "\n",
    "Generate a 10,000-step long trajectory of the chain defined in Activity #1. \n",
    "\n",
    "---"
   ]
  },
  {
   "cell_type": "code",
   "execution_count": 5,
   "metadata": {},
   "outputs": [
    {
     "name": "stdout",
     "output_type": "stream",
     "text": [
      "Trajectory length: 10000\n",
      "First 10 stops: [0, 5, 6, 7, 0, 5, 6, 7, 0, 1]\n",
      "The generated trajectory is possible.\n"
     ]
    }
   ],
   "source": [
    "def checkTrajPossible(traj):\n",
    "    size = len(traj)\n",
    "    for step in range(size - 1):\n",
    "        if not P[traj[step], traj[step + 1]] != 0:\n",
    "            raise Exception(\"The generated trajectory is not possible.\")\n",
    "    print(\"The generated trajectory is possible.\")\n",
    "\n",
    "trajectory = []\n",
    "stop = 0\n",
    "for i in range(0, 10000):\n",
    "    trajectory.append(stop)\n",
    "    stop = np.random.choice((np.arange(8)), p = P[stop])\n",
    "\n",
    "print(\"Trajectory length:\", len(trajectory))\n",
    "print(\"First 10 stops:\", trajectory[0:10])\n",
    "checkTrajPossible(trajectory)"
   ]
  },
  {
   "cell_type": "markdown",
   "metadata": {},
   "source": [
    "---\n",
    "\n",
    "#### Activity 6\n",
    "\n",
    "Draw a histogram of the trajectory generated in Activity #5. Make sure that the histogram has one bin for each state. Compare the relative frequencies with the result of Activity #3.\n",
    "\n",
    "**Note**: Don't forget to load `matplotlib`.\n",
    "\n",
    "---"
   ]
  },
  {
   "cell_type": "code",
   "execution_count": 7,
   "metadata": {},
   "outputs": [
    {
     "data": {
      "image/png": "[encoded data removed]",
      "text/plain": [
       "<Figure size 432x288 with 1 Axes>"
      ]
     },
     "metadata": {},
     "output_type": "display_data"
    },
    {
     "data": {
      "image/png": "[encoded data removed]",
      "text/plain": [
       "<Figure size 432x288 with 1 Axes>"
      ]
     },
     "metadata": {},
     "output_type": "display_data"
    }
   ],
   "source": [
    "import matplotlib.pyplot as plt\n",
    "\n",
    "x = np.arange(8)\n",
    "y = np.bincount(trajectory)\n",
    "\n",
    "plt.bar(x, y, align='center', width=1, alpha=0.5)\n",
    "plt.xticks(x, X)\n",
    "plt.ylabel('Count')\n",
    "plt.title('Count of each Stop in the generated 10,000 step trajectory.')\n",
    "plt.show()\n",
    "\n",
    "plt.figure()\n",
    "plt.bar(x, y / np.sum(y), align='center', width=1, alpha=0.5)\n",
    "plt.scatter(x, u, zorder=1, color=\"red\")\n",
    "plt.xticks(x, X)\n",
    "plt.ylabel('Relative frequency')\n",
    "plt.title('Relative frequency of each Stop in the \\ngenerated 10,000 step trajectory.\\n' \\\n",
    "    + 'The stationary distribution calculated in activity #3\\n is represented in the red dots.')\n",
    "plt.show()"
   ]
  },
  {
   "cell_type": "markdown",
   "metadata": {},
   "source": [
    "As we can see in the last histogram, the relative frequency of the stops in the generated trajectory aproximates the stationary distribtution represented as the red dots."
   ]
  },
  {
   "cell_type": "code",
   "execution_count": null,
   "metadata": {},
   "outputs": [],
   "source": []
  }
 ],
 "metadata": {
  "kernelspec": {
   "display_name": "Python 3",
   "language": "python",
   "name": "python3"
  },
  "language_info": {
   "codemirror_mode": {
    "name": "ipython",
    "version": 3
   },
   "file_extension": ".py",
   "mimetype": "text/x-python",
   "name": "python",
   "nbconvert_exporter": "python",
   "pygments_lexer": "ipython3",
   "version": "3.6.5"
  }
 },
 "nbformat": 4,
 "nbformat_minor": 1
}
