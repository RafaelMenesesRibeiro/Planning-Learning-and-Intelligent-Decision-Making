{
 "cells": [
  {
   "cell_type": "markdown",
   "metadata": {},
   "source": [
    "# Learning and Decision Making"
   ]
  },
  {
   "cell_type": "markdown",
   "metadata": {},
   "source": [
    "## Laboratory 4: Supervised learning\n",
    "\n",
    "In the end of the lab, you should submit all code/answers written in the tasks marked as \"Activity n. XXX\", together with the corresponding outputs and any replies to specific questions posed to the e-mail <adi.tecnico@gmail.com>. Make sure that the subject is of the form [&lt;group n.&gt;] LAB &lt;lab n.&gt;."
   ]
  },
  {
   "cell_type": "markdown",
   "metadata": {},
   "source": [
    "### 1. The IRIS dataset\n",
    "\n",
    "The Iris flower data set is a data set describing the morphologic variation of Iris flowers of three related species. Two of the three species were collected in the Gaspé Peninsula \"all from the same pasture, and picked on the same day and measured at the same time by the same person with the same apparatus\".\n",
    "\n",
    "The data set consists of 50 samples from each of three species of Iris (_Iris setosa_, _Iris virginica_ and _Iris versicolor_). Four features were measured from each sample: the length and the width of the sepals and petals, in centimetres.\n",
    "\n",
    "In your work, you will use the Iris dataset, considering only two of the three species of Iris.\n",
    "\n",
    "---\n",
    "\n",
    "We start by loading the dataset. The Iris dataset is available directly as part of `scikit-learn`and we use the `scikit-learn` command `load_iris` to retrieve the data."
   ]
  },
  {
   "cell_type": "code",
   "execution_count": null,
   "metadata": {
    "scrolled": false
   },
   "outputs": [],
   "source": [
    "%matplotlib notebook\n",
    "\n",
    "import numpy as np\n",
    "import matplotlib.pyplot as plt\n",
    "\n",
    "from sklearn import datasets as data\n",
    "\n",
    "# Load dataset and print its description\n",
    "iris = data.load_iris()\n",
    "print(iris.DESCR)\n",
    "\n",
    "data_X = iris.data[50:,:]          # Select only 2 classes\n",
    "data_y = 2 * iris.target[50:] - 3  # Set output to {-1, +1}\n",
    "\n",
    "# Get dimensions \n",
    "nP = data_X.shape[0]\n",
    "nF = data_X.shape[1]"
   ]
  },
  {
   "cell_type": "markdown",
   "metadata": {},
   "source": [
    "In the first activity, you will prepare and visualize the data, before running the learning algorithms."
   ]
  },
  {
   "cell_type": "markdown",
   "metadata": {},
   "source": [
    "---\n",
    "\n",
    "#### Activity 1.        \n",
    "\n",
    "* Split the data into training and test sets. To build the train and test sets, you can use the function `train_test_split` from the module `model_selection` of `scikit-learn`. Make sure that the test set corresponds to 1/10th of your data. For reproducibility, set `random_state` to some fixed value.\n",
    "\n",
    "* Plot the training data. In particular, for every pair of features/attributes, create a scatter plot where different classes are plotted with different symbols. You may find useful the `subplot` command from `matplotlib.pyplot`.\n",
    "\n",
    "* Standardize the training data to have 0-mean and unitary standard deviation. You may find useful the `StandardScaler` from `sklearn.preprocessing`.\n",
    "\n",
    "**Note 1:** You may want to force the train and test data to a floating point representation, which you can do using the `astype` method of numpy arrays.\n",
    "\n",
    "**Note 2:** Keep in mind that the test data should not be used for any design or validation decisions.\n",
    "\n",
    "---"
   ]
  },
  {
   "cell_type": "code",
   "execution_count": null,
   "metadata": {},
   "outputs": [],
   "source": [
    "# Insert your code here"
   ]
  },
  {
   "cell_type": "markdown",
   "metadata": {},
   "source": [
    "You will now use a very simple linear regression model, similar to the one studied in the homework, to discriminate between the two classes using only two features as inputs. To do so, you will create two artificial features that seek to capture most of the variability in the data using _principal component analysis_.\n",
    "\n",
    "---\n",
    "\n",
    "#### Activity 2. \n",
    "\n",
    "* Run PCA on the training set to get a representation of the data using only the two principal components. To do this, you should first fit the PCA model to the data and then use the resulting model to transform the data. For details, check the documentation for the function `PCA`.\n",
    "\n",
    "* Use the PCA model fit to the training data to also transform the test data.\n",
    "\n",
    "---"
   ]
  },
  {
   "cell_type": "code",
   "execution_count": null,
   "metadata": {},
   "outputs": [],
   "source": [
    "# Insert your code here"
   ]
  },
  {
   "cell_type": "markdown",
   "metadata": {},
   "source": [
    "---\n",
    "\n",
    "#### Activity 3.        \n",
    "\n",
    "Train a logistic regression classifier in Python using Newton-Raphson's method. The method is described by the update:\n",
    "\n",
    "$$\\mathbf{w}^{(k+1)}\\leftarrow\\mathbf{w}^{(k)}-\\mathbf{H}^{-1}\\mathbf{g},$$\n",
    "\n",
    "where $\\mathbf{H}$ and $\\mathbf{g}$ are the _Hessian matrix_ and _gradient vector_ that you computed in your homework. Therefore, to train the classifier you should write a cycle that repeatedly updates the parameter vector according to the rule above until the difference between two iterations is sufficiently small (e.g., smaller than $10^{-5}$).\n",
    "\n",
    "Print the resulting parameters and plot the decision boundary over the data points. Make sure that:\n",
    "\n",
    "1. You use the data from Activity 2, augmenting it with an extra feature that is always 1\n",
    "2. You initialize your parameters to zero.\n",
    "\n",
    "---"
   ]
  },
  {
   "cell_type": "code",
   "execution_count": null,
   "metadata": {
    "scrolled": false
   },
   "outputs": [],
   "source": [
    "# Insert your code here"
   ]
  },
  {
   "cell_type": "markdown",
   "metadata": {},
   "source": [
    "---\n",
    "\n",
    "#### Activity 4.\n",
    "\n",
    "You will now compare the classifier from Activity 3 with a logistic regression classifier implemented in `sci-kit learn`. To do so, \n",
    "\n",
    "* Fit the logistic regression model to the data from Activity 2. The model can be imported from the `sklearn.linear_model` library under the name `LogisticRegression`. You should use the `newton-cg` solver and a regularization coefficient $C=1e40$.\n",
    "\n",
    "* Compare the parameter vector and decision region obtained with those from Activity 3. In particular, plot the two decision boundaries over the data points.\n",
    "\n",
    "* Compute the accuracy of your model on the training and test set. Use the `accuracy_score` function from the `sklearn.metrics` module.\n",
    "\n",
    "---"
   ]
  },
  {
   "cell_type": "code",
   "execution_count": null,
   "metadata": {},
   "outputs": [],
   "source": [
    "# Insert your code here"
   ]
  },
  {
   "cell_type": "markdown",
   "metadata": {},
   "source": [
    "In the continuation, you will investigate whether the performance of the model can be improved by augmenting its predictive power. In particular, you will now observe the impact of the parameter $C$ in the logistic regression model.\n",
    "\n",
    "---\n",
    "\n",
    "#### Activity 6.\n",
    "\n",
    "In this activity you will compare the performance of different logistic regression classifiers as you change the parameter $C$. To this purpose,\n",
    "\n",
    "* Start by further splitting the training dataset from Activity 1 into two sets, $D_T$ and $D_V$, where $D_T$ corresponds to $85\\%$ of the training dataset and $D_V$ to the remaining $15\\%$. You will use $D_T$ for training and $D_V$ for validation. \n",
    "\n",
    "* For $c\\in[1\\times10^{-3},10^4]$,\n",
    "\n",
    "  * Using $D_T$, train a logistic regression model with $C=c$ and using `newton-cg` as the solver.\n",
    "\n",
    "  * Compute the accuracy both in $D_T$ and in $D_V$;\n",
    "\n",
    "Repeat the _whole process_ (including the split of $D_T$ and $D_V$) 100 times and plot the average accuracy in $D_T$ (training accuracy) and in $D_V$ (test accuracy) across the 100 runs, as a function of $C$. Interpret the observed results, offering an explanation both to the observed classifier behavior and the role of $C$.\n",
    "\n",
    "** Note: ** The whole process may take a while, so don't despair.\n",
    "\n",
    "---"
   ]
  },
  {
   "cell_type": "code",
   "execution_count": null,
   "metadata": {
    "scrolled": false
   },
   "outputs": [],
   "source": [
    "# Insert your code here"
   ]
  }
 ],
 "metadata": {
  "celltoolbar": "Raw Cell Format",
  "kernelspec": {
   "display_name": "Python 3",
   "language": "python",
   "name": "python3"
  },
  "language_info": {
   "codemirror_mode": {
    "name": "ipython",
    "version": 3
   },
   "file_extension": ".py",
   "mimetype": "text/x-python",
   "name": "python",
   "nbconvert_exporter": "python",
   "pygments_lexer": "ipython3",
   "version": "3.5.3"
  }
 },
 "nbformat": 4,
 "nbformat_minor": 1
}
